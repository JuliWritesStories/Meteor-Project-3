{
 "cells": [
  {
   "cell_type": "code",
   "execution_count": 1,
   "id": "cdb556dc",
   "metadata": {},
   "outputs": [],
   "source": [
    "# Import Dependencies\n",
    "import sqlalchemy\n",
    "from sqlalchemy.ext.automap import automap_base\n",
    "from sqlalchemy.orm import Session\n",
    "from sqlalchemy import create_engine\n",
    "from sqlalchemy import func"
   ]
  },
  {
   "cell_type": "code",
   "execution_count": 4,
   "id": "69d50a32",
   "metadata": {},
   "outputs": [
    {
     "name": "stdout",
     "output_type": "stream",
     "text": [
      "SQLite database version: 3.41.2\n"
     ]
    }
   ],
   "source": [
    "# # Create an engine for the meteorite_landing.sqlite database\n",
    "# engine = create_engine(\"sqlite:///../meteorite_landing.db\", echo=False)\n",
    "from sqlalchemy import create_engine\n",
    "\n",
    "# Define the path to the SQLite database\n",
    "db_path = 'sqlite:///meteorite_landing.db'\n",
    "\n",
    "# Create the engine\n",
    "engine = create_engine(db_path)\n",
    "\n",
    "# Test the connection by executing a simple query\n",
    "with engine.connect() as connection:\n",
    "    result = connection.execute('SELECT SQLITE_VERSION()')\n",
    "    version = result.fetchone()[0]\n",
    "    print(f\"SQLite database version: {version}\")"
   ]
  },
  {
   "cell_type": "code",
   "execution_count": 5,
   "id": "f2454128",
   "metadata": {},
   "outputs": [
    {
     "data": {
      "text/plain": [
       "['meteorite_landing']"
      ]
     },
     "execution_count": 5,
     "metadata": {},
     "output_type": "execute_result"
    }
   ],
   "source": [
    "# Reflect Database into ORM classes\n",
    "Base = automap_base()\n",
    "Base.prepare(autoload_with=engine)\n",
    "Base.classes.keys()"
   ]
  },
  {
   "cell_type": "code",
   "execution_count": null,
   "id": "ba92270e",
   "metadata": {},
   "outputs": [],
   "source": []
  }
 ],
 "metadata": {
  "kernelspec": {
   "display_name": "Python 3 (ipykernel)",
   "language": "python",
   "name": "python3"
  },
  "language_info": {
   "codemirror_mode": {
    "name": "ipython",
    "version": 3
   },
   "file_extension": ".py",
   "mimetype": "text/x-python",
   "name": "python",
   "nbconvert_exporter": "python",
   "pygments_lexer": "ipython3",
   "version": "3.10.13"
  }
 },
 "nbformat": 4,
 "nbformat_minor": 5
}
